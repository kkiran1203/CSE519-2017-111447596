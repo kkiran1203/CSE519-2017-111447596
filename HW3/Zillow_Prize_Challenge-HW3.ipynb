{
 "cells": [
  {
   "cell_type": "markdown",
   "metadata": {},
   "source": [
    "# Zillow Prize Challenge"
   ]
  },
  {
   "cell_type": "markdown",
   "metadata": {},
   "source": [
    "### Import some libraries"
   ]
  },
  {
   "cell_type": "code",
   "execution_count": 14,
   "metadata": {
    "collapsed": true
   },
   "outputs": [],
   "source": [
    "import pandas as pd\n",
    "import numpy as np\n",
    "import pdb\n",
    "import seaborn\n",
    "import math\n",
    "import seaborn as sns \n",
    "import warnings\n",
    "import pandas as pd\n",
    "import matplotlib.pyplot as plt\n",
    "import matplotlib\n",
    "from sklearn import preprocessing\n",
    "import datetime as dt\n",
    "from copy import deepcopy\n",
    "from sklearn.model_selection import train_test_split\n",
    "from sklearn.metrics import mean_squared_error\n",
    "from sklearn import linear_model\n",
    "from sklearn import preprocessing\n",
    "from sklearn.neighbors import KNeighborsRegressor\n",
    "from sklearn.ensemble import RandomForestRegressor\n",
    "from scipy.spatial.distance import pdist\n",
    "from sklearn.metrics.pairwise import euclidean_distances\n",
    "import sklearn.metrics.pairwise\n",
    "import scipy.spatial.distance\n",
    "\n",
    "\n",
    "%matplotlib inline\n",
    "warnings.filterwarnings('ignore')\n"
   ]
  },
  {
   "cell_type": "markdown",
   "metadata": {},
   "source": [
    "### Read the data from properties, training and submission file(used for training and prediction)"
   ]
  },
  {
   "cell_type": "code",
   "execution_count": 3,
   "metadata": {
    "collapsed": true
   },
   "outputs": [],
   "source": [
    "df = pd.read_csv('/Users/kiranmayi/Desktop/Sem1/DSF_519/Hw2/properties_2017.csv', low_memory=False )\n",
    "#trainingData = pd.read_csv('/Users/kiranmayi/Desktop/Sem1/DSF_519/Hw2/train_2016_v2.csv', low_memory=False )\n",
    "#submission_data = pd.read_csv('/Users/kiranmayi/Desktop/Sem1/DSF_519/Hw2/sample_submission.csv', low_memory=False )"
   ]
  },
  {
   "cell_type": "markdown",
   "metadata": {},
   "source": [
    "### Identify which features need Mode and Mean to fill in their missing data"
   ]
  },
  {
   "cell_type": "code",
   "execution_count": 4,
   "metadata": {
    "collapsed": true
   },
   "outputs": [],
   "source": [
    "featuresWithMode = ['bathroomcnt',\n",
    "                    'bedroomcnt',\n",
    "                    'fireplacecnt',\n",
    "                    'garagecarcnt',\n",
    "                    'numberofstories',\n",
    "                    'unitcnt',\n",
    "                    'yearbuilt',\n",
    "                    'regionidzip',\n",
    "                    'latitude',\n",
    "                    'longitude']\n",
    "\n",
    "featuresWithMean = ['finishedsquarefeet12',\n",
    "                    'finishedsquarefeet15',\n",
    "                    'calculatedfinishedsquarefeet',\n",
    "                    'structuretaxvaluedollarcnt',\n",
    "                    'landtaxvaluedollarcnt',\n",
    "                    'taxamount']\n",
    "\n",
    "TotalFeatures = ['parcelid',\n",
    "                 'bathroomcnt',\n",
    "                 'bedroomcnt',\n",
    "                 'fireplacecnt',\n",
    "                 'garagecarcnt',\n",
    "                 'numberofstories',\n",
    "                 'unitcnt',\n",
    "                 'yearbuilt',\n",
    "                 'regionidzip',\n",
    "                 'finishedsquarefeet12',\n",
    "                 'finishedsquarefeet15',\n",
    "                 'calculatedfinishedsquarefeet',\n",
    "                 'structuretaxvaluedollarcnt',\n",
    "                 'landtaxvaluedollarcnt',\n",
    "                 'taxamount',\n",
    "                 'latitude',\n",
    "                 'longitude']\n"
   ]
  },
  {
   "cell_type": "markdown",
   "metadata": {},
   "source": [
    "### Fill NA rows/columns with appropriate Mean or Mode and get the data of interest"
   ]
  },
  {
   "cell_type": "code",
   "execution_count": 13,
   "metadata": {},
   "outputs": [
    {
     "name": "stdout",
     "output_type": "stream",
     "text": [
      "Mean for feature  finishedsquarefeet12 is  1764.0449917781111\n",
      "Mean for feature  finishedsquarefeet15 is  2754.8692325893207\n",
      "Mean for feature  calculatedfinishedsquarefeet is  1831.4552923009944\n",
      "Mean for feature  structuretaxvaluedollarcnt is  178142.88795247508\n",
      "Mean for feature  landtaxvaluedollarcnt is  268455.76912108914\n",
      "Mean for feature  taxamount is  5408.948842055877\n",
      "Mode for feature  bathroomcnt is  2.0\n",
      "Mode for feature  bedroomcnt is  3.0\n",
      "Mode for feature  fireplacecnt is  1.0\n",
      "Mode for feature  garagecarcnt is  2.0\n",
      "Mode for feature  numberofstories is  1.0\n",
      "Mode for feature  unitcnt is  1.0\n",
      "Mode for feature  yearbuilt is  1955.0\n",
      "Mode for feature  regionidzip is  96987.0\n",
      "Mode for feature  latitude is  33984600.0\n",
      "Mode for feature  longitude is  -118390000.0\n",
      "   parcelid  bathroomcnt  bedroomcnt  fireplacecnt  garagecarcnt  \\\n",
      "0  10754147          0.0         0.0           1.0           2.0   \n",
      "\n",
      "   numberofstories  unitcnt  yearbuilt  regionidzip  finishedsquarefeet12  \\\n",
      "0              1.0      1.0     1955.0      96337.0           1764.044992   \n",
      "\n",
      "   finishedsquarefeet15  calculatedfinishedsquarefeet  \\\n",
      "0           2754.869233                   1831.455292   \n",
      "\n",
      "   structuretaxvaluedollarcnt  landtaxvaluedollarcnt    taxamount    latitude  \\\n",
      "0               178142.887952                    9.0  5408.948842  34144442.0   \n",
      "\n",
      "     longitude  \n",
      "0 -118654084.0  \n"
     ]
    }
   ],
   "source": [
    "cleanedData = deepcopy( df )\n",
    "for feature in featuresWithMean:\n",
    "    mean = cleanedData[feature].mean()\n",
    "    print(\"Mean for feature \", feature, \"is \", mean.real)\n",
    "    cleanedData[feature].fillna(mean.real, inplace=True)\n",
    "\n",
    "for feature in featuresWithMode:\n",
    "    mode = cleanedData[feature].mode()\n",
    "    print(\"Mode for feature \", feature, \"is \", mode.real[0])\n",
    "    cleanedData[feature].fillna(mode.real[0], inplace=True)\n",
    "    \n",
    "DataOfInterest = cleanedData[ TotalFeatures ]\n",
    "\n",
    "print(DataOfInterest.head(1))"
   ]
  }
 ],
 "metadata": {
  "kernelspec": {
   "display_name": "Python 3",
   "language": "python",
   "name": "python3"
  },
  "language_info": {
   "codemirror_mode": {
    "name": "ipython",
    "version": 3
   },
   "file_extension": ".py",
   "mimetype": "text/x-python",
   "name": "python",
   "nbconvert_exporter": "python",
   "pygments_lexer": "ipython3",
   "version": "3.6.1"
  }
 },
 "nbformat": 4,
 "nbformat_minor": 2
}
